{
 "cells": [
  {
   "cell_type": "code",
   "execution_count": 4,
   "id": "2462e628",
   "metadata": {},
   "outputs": [],
   "source": [
    "import seaborn as sns\n",
    "import matplotlib.pyplot as plt\n",
    "\n",
    "# Create a toy dataset\n",
    "df = sns.load_dataset(\"tips\")\n",
    "\n",
    "# Set the y-axis limits for each axis\n",
    "# g.set(ylim=(0, 8))\n",
    "# ax2.set_ylim(0, 50)\n"
   ]
  },
  {
   "cell_type": "code",
   "execution_count": 12,
   "id": "9aafeae9",
   "metadata": {},
   "outputs": [
    {
     "data": {
      "image/png": "[encoded data removed]",
      "text/plain": [
       "<Figure size 864x216 with 8 Axes>"
      ]
     },
     "metadata": {
      "needs_background": "light"
     },
     "output_type": "display_data"
    }
   ],
   "source": [
    "# Create a FacetGrid with multiple columns\n",
    "g = sns.FacetGrid(df, col=\"day\", col_wrap=4)\n",
    "\n",
    "# Plot a histogram on the left y-axis\n",
    "g.map(plt.hist, \"tip\", color=\"r\", lw=0)\n",
    "\n",
    "# Create a second y-axis on the right side of the plot\n",
    "for i in range(4):\n",
    "    ax2 = g.axes[i].twinx()\n",
    "    # Plot a scatterplot on the right y-axis\n",
    "    g.map(ax2.hist, \"total_bill\", color=\"r\", lw=0)\n",
    "#     g.map(ax2.scatter, \"total_bill\", \"tip\", color=\"b\")\n"
   ]
  },
  {
   "cell_type": "code",
   "execution_count": 11,
   "id": "34e34ba6",
   "metadata": {},
   "outputs": [],
   "source": [
    "g.map?"
   ]
  },
  {
   "cell_type": "code",
   "execution_count": null,
   "id": "514cb570",
   "metadata": {},
   "outputs": [],
   "source": []
  }
 ],
 "metadata": {
  "kernelspec": {
   "display_name": "Python 3 (ipykernel)",
   "language": "python",
   "name": "python3"
  },
  "language_info": {
   "codemirror_mode": {
    "name": "ipython",
    "version": 3
   },
   "file_extension": ".py",
   "mimetype": "text/x-python",
   "name": "python",
   "nbconvert_exporter": "python",
   "pygments_lexer": "ipython3",
   "version": "3.8.10"
  },
  "toc": {
   "base_numbering": 1,
   "nav_menu": {},
   "number_sections": true,
   "sideBar": true,
   "skip_h1_title": false,
   "title_cell": "Table of Contents",
   "title_sidebar": "Contents",
   "toc_cell": false,
   "toc_position": {},
   "toc_section_display": true,
   "toc_window_display": false
  }
 },
 "nbformat": 4,
 "nbformat_minor": 5
}
